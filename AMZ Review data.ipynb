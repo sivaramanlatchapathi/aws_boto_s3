{
 "cells": [
  {
   "cell_type": "code",
   "execution_count": 1,
   "id": "233aa1db",
   "metadata": {},
   "outputs": [
    {
     "name": "stdout",
     "output_type": "stream",
     "text": [
      "2017-11-24 08:22:50          0 \r\n",
      "2017-11-24 08:48:03  241896005 amazon_reviews_multilingual_DE_v1_00.tsv.gz\r\n",
      "2017-11-24 08:48:17   70583516 amazon_reviews_multilingual_FR_v1_00.tsv.gz\r\n",
      "2017-11-24 08:48:34   94688992 amazon_reviews_multilingual_JP_v1_00.tsv.gz\r\n",
      "2017-11-24 08:49:14  349370868 amazon_reviews_multilingual_UK_v1_00.tsv.gz\r\n",
      "2017-11-24 08:48:47 1466965039 amazon_reviews_multilingual_US_v1_00.tsv.gz\r\n",
      "2017-11-24 08:49:53  648641286 amazon_reviews_us_Apparel_v1_00.tsv.gz\r\n",
      "2017-11-24 08:56:36  582145299 amazon_reviews_us_Automotive_v1_00.tsv.gz\r\n",
      "2017-11-24 09:04:02  357392893 amazon_reviews_us_Baby_v1_00.tsv.gz\r\n",
      "2017-11-24 09:08:11  914070021 amazon_reviews_us_Beauty_v1_00.tsv.gz\r\n",
      "2017-11-24 09:17:41 2740337188 amazon_reviews_us_Books_v1_00.tsv.gz\r\n",
      "2017-11-24 09:45:50 2692708591 amazon_reviews_us_Books_v1_01.tsv.gz\r\n",
      "2017-11-24 10:10:21 1329539135 amazon_reviews_us_Books_v1_02.tsv.gz\r\n",
      "2017-11-24 10:22:13  442653086 amazon_reviews_us_Camera_v1_00.tsv.gz\r\n",
      "2017-11-24 10:27:13 2689739299 amazon_reviews_us_Digital_Ebook_Purchase_v1_00.tsv.gz\r\n",
      "2017-11-24 10:49:13 1294879074 amazon_reviews_us_Digital_Ebook_Purchase_v1_01.tsv.gz\r\n",
      "2017-11-24 10:59:24  253570168 amazon_reviews_us_Digital_Music_Purchase_v1_00.tsv.gz\r\n",
      "2017-11-24 11:01:47   18997559 amazon_reviews_us_Digital_Software_v1_00.tsv.gz\r\n",
      "2017-11-24 11:01:53  506979922 amazon_reviews_us_Digital_Video_Download_v1_00.tsv.gz\r\n",
      "2017-11-24 11:06:31   27442648 amazon_reviews_us_Digital_Video_Games_v1_00.tsv.gz\r\n",
      "2017-11-24 11:06:42  698828243 amazon_reviews_us_Electronics_v1_00.tsv.gz\r\n",
      "2017-11-24 11:12:44  148982796 amazon_reviews_us_Furniture_v1_00.tsv.gz\r\n",
      "2017-11-24 11:13:52   12134676 amazon_reviews_us_Gift_Card_v1_00.tsv.gz\r\n",
      "2017-11-24 11:13:59  401337166 amazon_reviews_us_Grocery_v1_00.tsv.gz\r\n",
      "2017-11-24 14:55:29 1011180212 amazon_reviews_us_Health_Personal_Care_v1_00.tsv.gz\r\n",
      "2017-11-24 15:30:55  193168458 amazon_reviews_us_Home_Entertainment_v1_00.tsv.gz\r\n",
      "2017-11-24 15:37:56  503339178 amazon_reviews_us_Home_Improvement_v1_00.tsv.gz\r\n",
      "2017-11-24 15:55:43 1081002012 amazon_reviews_us_Home_v1_00.tsv.gz\r\n",
      "2017-11-24 16:47:51  247022254 amazon_reviews_us_Jewelry_v1_00.tsv.gz\r\n",
      "2017-11-24 16:59:56  930744854 amazon_reviews_us_Kitchen_v1_00.tsv.gz\r\n",
      "2017-11-24 18:41:48  486772662 amazon_reviews_us_Lawn_and_Garden_v1_00.tsv.gz\r\n",
      "2017-11-24 18:59:42   60320191 amazon_reviews_us_Luggage_v1_00.tsv.gz\r\n",
      "2017-11-24 19:01:59   24359816 amazon_reviews_us_Major_Appliances_v1_00.tsv.gz\r\n",
      "2017-11-24 19:02:45  557959415 amazon_reviews_us_Mobile_Apps_v1_00.tsv.gz\r\n",
      "2017-11-24 19:22:19   22870508 amazon_reviews_us_Mobile_Electronics_v1_00.tsv.gz\r\n",
      "2017-11-24 19:23:06 1521994296 amazon_reviews_us_Music_v1_00.tsv.gz\r\n",
      "2017-11-24 19:58:36  193389086 amazon_reviews_us_Musical_Instruments_v1_00.tsv.gz\r\n",
      "2017-11-24 20:03:14  512323500 amazon_reviews_us_Office_Products_v1_00.tsv.gz\r\n",
      "2017-11-25 02:21:21  448963100 amazon_reviews_us_Outdoors_v1_00.tsv.gz\r\n",
      "2017-11-25 02:32:46 1512903923 amazon_reviews_us_PC_v1_00.tsv.gz\r\n",
      "2017-11-25 03:10:33   17634794 amazon_reviews_us_Personal_Care_Appliances_v1_00.tsv.gz\r\n",
      "2017-11-25 03:11:02  515815253 amazon_reviews_us_Pet_Products_v1_00.tsv.gz\r\n",
      "2017-11-25 03:22:26  642255314 amazon_reviews_us_Shoes_v1_00.tsv.gz\r\n",
      "2017-11-25 03:39:15   94010685 amazon_reviews_us_Software_v1_00.tsv.gz\r\n",
      "2017-11-27 05:36:58  872478735 amazon_reviews_us_Sports_v1_00.tsv.gz\r\n",
      "2017-11-25 03:52:11  333782939 amazon_reviews_us_Tools_v1_00.tsv.gz\r\n",
      "2017-11-25 04:06:08  838451398 amazon_reviews_us_Toys_v1_00.tsv.gz\r\n",
      "2017-11-25 04:42:13 1512355451 amazon_reviews_us_Video_DVD_v1_00.tsv.gz\r\n",
      "2017-11-25 05:50:22  475199894 amazon_reviews_us_Video_Games_v1_00.tsv.gz\r\n",
      "2017-11-25 06:07:59  138929896 amazon_reviews_us_Video_v1_00.tsv.gz\r\n",
      "2017-11-25 06:14:07  162973819 amazon_reviews_us_Watches_v1_00.tsv.gz\r\n",
      "2017-11-26 10:24:07 1704713674 amazon_reviews_us_Wireless_v1_00.tsv.gz\r\n",
      "2017-11-28 10:55:13       6162 index.txt\r\n",
      "2017-11-27 06:08:16      17553 sample_fr.tsv\r\n",
      "2017-11-27 06:08:17      15906 sample_us.tsv\r\n"
     ]
    }
   ],
   "source": [
    "!aws s3 ls s3://amazon-reviews-pds/tsv/"
   ]
  },
  {
   "cell_type": "code",
   "execution_count": 2,
   "id": "bec175a9",
   "metadata": {},
   "outputs": [
    {
     "name": "stdout",
     "output_type": "stream",
     "text": [
      "download: s3://amazon-reviews-pds/tsv/amazon_reviews_us_Digital_Video_Games_v1_00.tsv.gz to ./amazon_reviews_us_Digital_Video_Games_v1_00.tsv.gz\n"
     ]
    }
   ],
   "source": [
    "!aws s3 cp s3://amazon-reviews-pds/tsv/amazon_reviews_us_Digital_Video_Games_v1_00.tsv.gz ."
   ]
  },
  {
   "cell_type": "code",
   "execution_count": 3,
   "id": "1d72b137",
   "metadata": {},
   "outputs": [
    {
     "name": "stdout",
     "output_type": "stream",
     "text": [
      "download: s3://amazon-reviews-pds/tsv/amazon_reviews_us_Digital_Video_Games_v1_00.tsv.gz to data/amazon_reviews_us_Digital_Video_Games_v1_00.tsv.gz\n"
     ]
    }
   ],
   "source": [
    "!aws s3 cp s3://amazon-reviews-pds/tsv/amazon_reviews_us_Digital_Video_Games_v1_00.tsv.gz data/"
   ]
  },
  {
   "cell_type": "code",
   "execution_count": 4,
   "id": "f829c9d0",
   "metadata": {},
   "outputs": [
    {
     "name": "stdout",
     "output_type": "stream",
     "text": [
      "download: s3://amazon-reviews-pds/tsv/amazon_reviews_us_Shoes_v1_00.tsv.gz to data/amazon_reviews_us_Shoes_v1_00.tsv.gz\n"
     ]
    }
   ],
   "source": [
    "!aws s3 cp s3://amazon-reviews-pds/tsv/amazon_reviews_us_Shoes_v1_00.tsv.gz data/"
   ]
  },
  {
   "cell_type": "code",
   "execution_count": 4,
   "id": "df1dcc94",
   "metadata": {},
   "outputs": [
    {
     "name": "stdout",
     "output_type": "stream",
     "text": [
      "Found existing installation: boto3 1.20.23\n",
      "Uninstalling boto3-1.20.23:\n",
      "  Successfully uninstalled boto3-1.20.23\n",
      "Note: you may need to restart the kernel to use updated packages.\n"
     ]
    }
   ],
   "source": [
    "pip uninstall -y boto3"
   ]
  },
  {
   "cell_type": "code",
   "execution_count": 2,
   "id": "b905b30f",
   "metadata": {},
   "outputs": [
    {
     "ename": "NameError",
     "evalue": "name 'y' is not defined",
     "output_type": "error",
     "traceback": [
      "\u001b[0;31m---------------------------------------------------------------------------\u001b[0m",
      "\u001b[0;31mNameError\u001b[0m                                 Traceback (most recent call last)",
      "\u001b[0;32m<ipython-input-2-9063a9f0e032>\u001b[0m in \u001b[0;36m<module>\u001b[0;34m\u001b[0m\n\u001b[0;32m----> 1\u001b[0;31m \u001b[0my\u001b[0m\u001b[0;34m\u001b[0m\u001b[0;34m\u001b[0m\u001b[0m\n\u001b[0m",
      "\u001b[0;31mNameError\u001b[0m: name 'y' is not defined"
     ]
    }
   ],
   "source": [
    "y"
   ]
  },
  {
   "cell_type": "code",
   "execution_count": null,
   "id": "233b438b",
   "metadata": {},
   "outputs": [],
   "source": []
  }
 ],
 "metadata": {
  "kernelspec": {
   "display_name": "Python 3",
   "language": "python",
   "name": "python3"
  },
  "language_info": {
   "codemirror_mode": {
    "name": "ipython",
    "version": 3
   },
   "file_extension": ".py",
   "mimetype": "text/x-python",
   "name": "python",
   "nbconvert_exporter": "python",
   "pygments_lexer": "ipython3",
   "version": "3.8.8"
  }
 },
 "nbformat": 4,
 "nbformat_minor": 5
}
